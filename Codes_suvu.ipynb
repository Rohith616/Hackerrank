{
  "nbformat": 4,
  "nbformat_minor": 0,
  "metadata": {
    "colab": {
      "name": "Codes suvu.ipynb",
      "provenance": [],
      "authorship_tag": "ABX9TyMhgKNMzM6hcTBaU4r/ovr+",
      "include_colab_link": true
    },
    "kernelspec": {
      "name": "python3",
      "display_name": "Python 3"
    },
    "language_info": {
      "name": "python"
    }
  },
  "cells": [
    {
      "cell_type": "markdown",
      "metadata": {
        "id": "view-in-github",
        "colab_type": "text"
      },
      "source": [
        "<a href=\"https://colab.research.google.com/github/Rohithtechis/Hackerrank/blob/main/Codes_suvu.ipynb\" target=\"_parent\"><img src=\"https://colab.research.google.com/assets/colab-badge.svg\" alt=\"Open In Colab\"/></a>"
      ]
    },
    {
      "cell_type": "code",
      "metadata": {
        "id": "BclcFjPtzD7E"
      },
      "source": [
        ""
      ],
      "execution_count": null,
      "outputs": []
    },
    {
      "cell_type": "code",
      "metadata": {
        "id": "tqarlDGavgHQ"
      },
      "source": [
        "# code for Armstrong no.\n",
        "num=int (input('enter a number'))\n",
        "sum=0\n",
        "temp=num\n",
        "while temp>0:\n",
        "  x=temp%10\n",
        "  sum=sum+x**len(str (num))\n",
        "  temp//=10\n",
        "if num==sum:\n",
        "  print('this is a armstrong number')\n",
        "else :\n",
        "  print('this is not a armdtrong number')"
      ],
      "execution_count": null,
      "outputs": []
    },
    {
      "cell_type": "code",
      "metadata": {
        "id": "v96-k5xyvtJw"
      },
      "source": [
        "# code for Palindrome no.\n",
        "num=int (input('enter a number'))\n",
        "pal_num=0\n",
        "temp=num\n",
        "while temp!=0:\n",
        "  x=temp%10\n",
        "  pal_num=pal_num*10+x\n",
        "  temp//=10\n",
        "if num==pal_num:\n",
        "  print('the number is a palindrom'+' ', str (pal_num))\n",
        "else:\n",
        "    print('number is not a palindrom')"
      ],
      "execution_count": null,
      "outputs": []
    },
    {
      "cell_type": "code",
      "metadata": {
        "colab": {
          "base_uri": "https://localhost:8080/"
        },
        "id": "vUi-5kiiwQuj",
        "outputId": "d74f17ba-7bf8-4d7e-c942-f951045890a3"
      },
      "source": [
        "# code for Even or odd\n",
        "num = int(input(\"Enter a number: \"))\n",
        "if (num % 2) == 0:\n",
        "   print(\"{} is Even\".format(num))\n",
        "else:\n",
        "   print(\"{} is Odd\".format(num))"
      ],
      "execution_count": 1,
      "outputs": [
        {
          "output_type": "stream",
          "name": "stdout",
          "text": [
            "Enter a number: 50\n",
            "50 is Even\n"
          ]
        }
      ]
    },
    {
      "cell_type": "code",
      "metadata": {
        "colab": {
          "base_uri": "https://localhost:8080/"
        },
        "id": "3B1BV5-Bw77N",
        "outputId": "e9bf0f62-c5f7-4550-e9fb-703b567ceb98"
      },
      "source": [
        "# code for prime number\n",
        "num = int(input(\"Enter a number: \"))\n",
        "n=False\n",
        "if num > 1:\n",
        "  for i in range(2, num):\n",
        "        if (num % i) == 0:\n",
        "          n=True\n",
        "          break\n",
        "            \n",
        "if n:\n",
        "    print(num, \"is not a prime number\")\n",
        "else:\n",
        "    print(num, \"is a prime number\")"
      ],
      "execution_count": 11,
      "outputs": [
        {
          "output_type": "stream",
          "name": "stdout",
          "text": [
            "Enter a number: 7\n",
            "7 is a prime number\n"
          ]
        }
      ]
    },
    {
      "cell_type": "code",
      "metadata": {
        "colab": {
          "base_uri": "https://localhost:8080/"
        },
        "id": "jWn-e0tqx7VO",
        "outputId": "d3f1e075-1c85-483e-e945-984743d4b4d3"
      },
      "source": [
        "# code for Leap year\n",
        "year = int(input(\"Enter a year: \"))\n",
        "\n",
        "if (year % 4) == 0:\n",
        "   if (year % 100) == 0:\n",
        "       if (year % 400) == 0:\n",
        "           print(\"{} is a leap year\".format(year))\n",
        "       else:\n",
        "           print(\"{} is not a leap year\".format(year))\n",
        "   else:\n",
        "       print(\"{} is a leap year\".format(year))\n",
        "else:\n",
        "   print(\"{} is not a leap year\".format(year))"
      ],
      "execution_count": 12,
      "outputs": [
        {
          "output_type": "stream",
          "name": "stdout",
          "text": [
            "Enter a year: 2021\n",
            "2021 is not a leap year\n"
          ]
        }
      ]
    }
  ]
}